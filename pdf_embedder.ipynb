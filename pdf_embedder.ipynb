{
 "cells": [
  {
   "cell_type": "code",
   "execution_count": 1,
   "metadata": {},
   "outputs": [],
   "source": [
    "from langchain.document_loaders import PyPDFLoader\n",
    "from langchain.vectorstores import FAISS\n",
    "from langchain.embeddings.openai import OpenAIEmbeddings\n",
    "from langchain.prompts import PromptTemplate\n",
    "from langchain.chat_models import ChatOpenAI\n",
    "from langchain.chains import LLMChain\n",
    "from dotenv import load_dotenv\n",
    "import pandas as pd"
   ]
  },
  {
   "cell_type": "code",
   "execution_count": 2,
   "metadata": {},
   "outputs": [
    {
     "data": {
      "text/plain": [
       "True"
      ]
     },
     "execution_count": 2,
     "metadata": {},
     "output_type": "execute_result"
    }
   ],
   "source": [
    "load_dotenv()"
   ]
  },
  {
   "cell_type": "code",
   "execution_count": 3,
   "metadata": {},
   "outputs": [],
   "source": [
    "loader = PyPDFLoader(\"./data/pdfs/sanchezoro2022.pdf\")\n",
    "pages = loader.load_and_split()"
   ]
  },
  {
   "cell_type": "code",
   "execution_count": 5,
   "metadata": {},
   "outputs": [],
   "source": [
    "embeddings = OpenAIEmbeddings()\n",
    "vectors = FAISS.from_documents(pages, embeddings)"
   ]
  },
  {
   "cell_type": "code",
   "execution_count": 6,
   "metadata": {},
   "outputs": [],
   "source": [
    "def search_similar(query: str):\n",
    "    similars = vectors.similarity_search(query, k=3)\n",
    "    \n",
    "    return [s.page_content for s in similars]"
   ]
  },
  {
   "cell_type": "code",
   "execution_count": 7,
   "metadata": {},
   "outputs": [
    {
     "data": {
      "text/plain": [
       "['J. Sánchez-Oro,  A.D. López-Sánchez,  A.G. Hernández-Díaz  et al. European  Journal of Operational  Research xxx (xxxx) xxx ARTICLE  IN PRESS  \\nJID: EOR [m5G; March 17, 2022;0:38  ] \\nwith the aim of having an eﬃcient  local search procedure.  Then, \\nlet j ⋆ be the furthest  α-neighbor  facility of any demand  point from \\nthose in P . Notice that one of these facilities  determine  the value \\nof the objective  function.  This heuristic  selection  allows us to avoid \\nexploring  the complete  1-swap  neighborhood.  More formally,  for \\nany i ∈ N \\\\ P , the facility j ⋆ is determined  as: \\nj ⋆ ← arg min \\nA ⊂P \\n| A | = α{ max \\nj∈ A d (i, j ) } . \\nTherefore,  the set of neighbor  solutions  of P is mathematically  \\ndeﬁned  as: \\nN S (P ) ← { Q : Q ← Swap (P, i, j ⋆ ) , ∀ i ∈ N \\\\ P } \\nThe second  key element  of a local search consists  in deﬁning  \\nthe way in which the considered  neighborhood  is explored.  The \\nmost extended  strategies  are Best Improvement  (BI) and First Im- \\nprovement  (FI). On the one hand, BI selects,  in each iteration,  the \\nbest solution  in the current  neighborhood,  thus requiring  to ex- \\nplore the complete  neighborhood,  being rather time consuming.  \\nOn the other hand, FI selects the ﬁrst solution  that presents  a bet- \\nter objective  function  value that the incumbent  one. As the evalua-  \\ntion of the objective  function  in the α−pCP is very computation-  \\nally demanding,  a local search method  based in the First Improve-  \\nment strategy  (LS-FI) is proposed  in order to reduce the computing  \\ntime of the proposed  algorithm.  Additionally,  to increase  diversiﬁ-  \\ncation, the solutions  in the neighborhood  are explored  at random  \\nin each iteration.  A comparison  of performance  between  these two \\nlocal search strategies  is shown in Section  5 . \\n2.3. Tabu search \\nThe main drawback  of traditional  local search procedures  is that \\nthey strongly  depend  on the departing  solution,  getting  trapped  \\neasily in a local optimum.  In order to overcome  this drawback,  a \\nsecond  improvement  method  based on Tabu Search (TS) ( Glover & \\nLaguna,  1998 ) is proposed.  This methodology  helps traditional  local \\nsearch procedures  to escape from local optima.  The two key fea- \\ntures of TS can be summed  up in using an adaptive  memory  and \\naccepting  non-improving  moves.  The proposed  TS method  starts \\nsimilarly  to the previously  described  local search,  selecting  the ﬁrst \\nimproving  solution  in the neighborhood  under exploration.  How- \\never, a short-term  memory  stores the last elements  that have been \\nremoved  from the solution  in every Swap move performed.  This \\nmemory  follows  a First-In  First-Out  (FIFO) scheme  and has a pre- \\ndeﬁned  maximum  size given by the tenure parameter.  An element  \\ncannot be included  in the solution  again while it is stored in the \\nmemory,  in order to restrict  the available  moves.  Elements  stored \\nin the memory  are labelled  as tabu-active.  \\nThe TS method  always performs  the best available  move even \\nthough  it implies  deteriorating  the quality  of the objective  func- \\ntion. The aim of this strategy  is to avoid getting  trapped  in local \\noptima.  The search stops when no improvement  is found after a \\npredeﬁned  number  of iterations.  \\nAs it is well described  in the related  literature  ( Glover & La- \\nguna, 1998 ), the use of memory  may prohibit  attractive  moves.  We \\nconsider  the so-called  aspiration  criterion,  where a move with the \\ntabu status (since it involves  tabu-active  elements)  is performed  if \\nit results in a solution  with an objective  value strictly  better than \\nthat of the best solution  found so far. Notice that there is not dan- \\nger of cycling  since the new solution  has not been previously  vis- \\nited. Section  5 will discuss  the inﬂuence  of these parameters  over \\nthe global performance  of TS. \\n3. Strategic  oscillation',\n",
       " 'J. Sánchez-Oro,  A.D. López-Sánchez,  A.G. Hernández-Díaz  et al. European  Journal of Operational  Research xxx (xxxx) xxx ARTICLE  IN PRESS  \\nJID: EOR [m5G; March 17, 2022;0:38  ] \\nFig. 1. Representation  of solutions  P 1 and P 2 for the same set of 11 points, with p = 4 and α= 2 . \\nα−pCP has been mainly  focused  on the continuous  version  of the \\nproblem.  In particular,  quite effective  and eﬃcient  exact methods  \\nhave been recently  proposed  which are able to solve instances  up \\nto 10 0 0 nodes. We refer the reader to ( Callaghan,  Salhi, & Brim- \\nberg, 2019 ) for the most recent work on the continuous  α−pCP \\nwhich proposes  an exact algorithm  that leverages  the structure  of \\nthe problem  to optimally  solve a new set of large instances.  \\nIn this paper, we focus on the discrete  variant,  which can be \\nformally  deﬁned  as follows:  let Nbe the set of points, with | N| = \\nn ; d (i, j ) be the distance  between  points i and j, where i, j ∈ N; \\nand pa positive  integer  number,  with 1 < p < | N| . The aim of the \\nα−pCP is to select a set P with exactly  pfacilities  in order to \\nminimize  the maximum  distance  between  each demand  point and \\nits αth closest facility or, in other words, minimize  the radius of \\nthe maximal  circle (among  the pallowed)  so that each demand  \\npoint is covered  by at least αcircles.  Without  loss of generality,  it \\ncan be assumed  that the set of candidate  locations  to host a facil- \\nity is directly  equal to N(i.e., every available  point is able to host \\na facility).  Therefore,  a feasible  solution  for the α−pCP can be \\nsimply represented  as the set of selected  facilities,  P , where P ⊂N\\nwith | P | = p. It is worth mentioning  that we do not explicitly  indi- \\ncate the set of demand  points since it is determined  by N \\\\ P . \\nGiven a set of facilities,  let A be any subset of αelements  taken \\nfrom of P . The α-distance  between  any demand  point i ∈ N \\\\ P and \\nthe set P , denoted  as d α(i, P ) , is deﬁned  as: \\nd α(i, P ) = min \\nA ⊂P \\n| A | = α{ max \\nj∈ A d (i, j ) } . \\nThe objective  function  of the α−pCP, refereed  to as f α(P, N) , \\nis deﬁned  as: \\nf α(P, N) = max \\ni ∈ N\\\\ P d α(i, P ) \\nTherefore,  the α−pCP consists  in minimizing  the aforemen-  \\ntioned objective  function.  In mathematical  terms: \\nmin \\nP⊂N \\n| P| = p f α(P, N) \\nFigure 1 shows two feasible  solutions  for the same set of 11 \\npoints considering  p = 4 and α= 2 , where facilities  are located  at \\npoints represented  with a ﬁlled circle. Figure 1 a represents  solu- \\ntion P 1 = { B, D, G, H} , where f α(P 1 , N) = 4 . 47 which is obtained  at \\ndemand  point J, whose closest facility is G and the second  one \\nis D , which is located  at a distance  of 4.47. In the case of so- \\nlution P 2 = { A, C, E, K} , depicted  at Fig. 1 b, f α(P 2 , N) = 5 . 83 , since \\nthe second  closest facility to the demand  point Jis C, which is at \\na distance  of 5.83. Therefore,  P 1 is better solution than P 2 , since \\nf α(P 1 , N) < f α(P 2 , N) . The p-center  problem  ( pCP) is a particular  case of the α−pCP \\nwhen considering  α= 1 . The pCP has been widely studied  in the \\nliterature  from both academic  and real-life  situations,  using exact \\nand heuristic  approaches.  To the best of our knowledge,  the ﬁrst \\nwork on the pCP was ( Hakimi,  1964 ) where the problem  was in- \\ntroduced,  solving  it by means of graphical  methods.  Then, an iter- \\native set covering  based exact method  was proposed  by Minieka  \\n(1970) . The ﬁrst mixed integer  programming  formulation  was pre- \\nsented in Daskin (1995) . Many heuristic  approaches  have been ap- \\nplied to solve the pCP, for instance,  in Mladenovi  ´c, Labbé, & Hansen  \\n(2003) whose authors  proposed  a Tabu Search and a Variable  \\nNeighborhood  Search and in Yin, Zhou, Ding, Zhao, & Lv (2017) , the \\nauthors  propose  a Greedy  Randomized  Adaptive  Search Procedure  \\nwith Path-Relinking  to address  the pCP.',\n",
       " 'J. Sánchez-Oro,  A.D. López-Sánchez,  A.G. Hernández-Díaz  et al. European  Journal of Operational  Research xxx (xxxx) xxx ARTICLE  IN PRESS  \\nJID: EOR [m5G; March 17, 2022;0:38  ] \\nTable 11 \\nComparison  of the results obtained  by the adaptation  of Chen & Chen (2013) coupled with an exhaustive  local search, the multistart  approach,  and \\nthe proposed  SO when considering  α= 2 . The original results of the continuous  version are also included  as a lower bound for the discrete problem.  \\nα= 2 Lower Bound Chen & Chen (2013) + LS MultiStart  + LS SO \\nInstance O.F. Time (s) O.F. Time (s) Dev(%) O.F. Time (s) Dev(%) O.F. Time (s) Dev(%) \\natt48_48_10  1377.53 0.20 2334.17 0.20 46.61 1931.36 0.32 21.31 1592.12 5.14 0.00 \\natt48_48_20  820.45 0.22 1910.06 0.22 68.90 1590.90 0.14 40.68 1130.85 1.21 0.00 \\natt48_48_30  601.59 0.22 1849.16 0.22 97.48 1590.90 0.07 69.90 936.38 0.42 0.00 \\natt48_48_40  474.65 0.19 1267.89 0.19 138.29 1590.90 0.03 199.00 532.08 0.07 0.00 \\nch150_150_10  184.06 0.95 241.53 0.95 17.44 235.33 6.60 14.43 205.66 223.16 0.00 \\nch150_150_100  38.01 3.61 91.90 3.61 72.71 89.67 0.53 68.52 53.21 2.35 0.00 \\nch150_150_110  33.24 3.46 77.13 3.46 49.33 89.67 0.43 73.62 51.65 1.36 0.00 \\nch150_150_120  31.98 3.20 77.13 3.20 53.34 89.67 0.28 78.28 50.30 0.72 0.00 \\nch150_150_130  29.55 2.49 87.22 2.49 87.04 89.67 0.19 92.28 46.63 0.31 0.00 \\nch150_150_140  27.06 2.23 71.82 2.23 69.78 89.67 0.10 111.99 42.30 0.14 0.00 \\nch150_150_20  122.55 13.20 194.37 13.20 37.33 165.44 3.48 16.89 141.53 94.75 0.00 \\nch150_150_30  93.98 26.27 161.82 26.27 43.82 140.76 2.36 25.10 112.51 55.58 0.00 \\nch150_150_40  76.38 20.94 118.83 20.94 23.25 117.58 1.84 21.95 96.42 31.74 0.00 \\nch150_150_50  65.42 19.11 166.24 19.11 89.58 105.67 1.43 20.51 87.69 18.10 0.00 \\nch150_150_60  55.72 8.02 129.57 8.02 65.23 98.11 1.14 25.11 78.42 12.24 0.00 \\nch150_150_70  50.78 5.97 117.58 5.97 72.33 94.65 0.99 38.72 68.23 8.20 0.00 \\nch150_150_80  47.41 4.22 98.11 4.22 52.24 89.67 0.77 39.14 64.45 5.57 0.00 \\nch150_150_90  41.28 4.14 103.50 4.14 66.85 89.67 0.63 44.54 62.04 3.63 0.00 \\neil101_101_10  19.46 0.45 25.94 0.45 22.29 24.04 2.05 13.33 21.21 68.12 0.00 \\neil101_101_100  3.64 0.68 6.32 0.68 123.61 13.00 0.03 359.62 2.83 0.05 0.00 \\neil101_101_20  12.14 7.98 19.10 7.98 35.09 17.46 1.13 23.46 14.14 28.27 0.00 \\neil101_101_30  9.22 7.22 18.68 7.22 55.68 14.31 0.75 19.25 12.00 10.63 0.00 \\neil101_101_40  7.53 9.60 15.13 9.60 60.41 13.00 0.53 37.80 9.43 6.19 0.00 \\neil101_101_50  6.36 4.05 15.81 4.05 83.80 13.00 0.39 51.12 8.60 3.19 0.00 \\neil101_101_60  5.76 2.85 13.60 2.85 64.94 13.00 0.29 57.65 8.25 1.94 0.00 \\neil101_101_70  5.00 1.61 13.60 1.61 86.83 13.00 0.21 78.57 7.28 0.96 0.00 \\neil101_101_80  4.53 1.43 12.04 1.43 90.39 13.00 0.13 105.55 6.32 0.43 0.00 \\neil101_101_90  4.03 1.06 9.43 1.06 88.68 13.00 0.07 160.00 5.00 0.11 0.00 \\npr439_439_10  2752.64 0.37 3779.05 0.81 20.10 3530.22 217.34 12.19 3146.63 1800.97 0.00 \\npr439_439_20  1716.51 0.84 2440.54 26.27 9.63 2765.07 117.33 24.20 2226.26 1800.89 0.00 \\npr439_439_30  1271.83 0.94 3222.19 24.36 114.78 2575.12 78.47 71.65 1500.21 1800.18 0.00 \\npr439_439_40  1008.17 3.40 3300.00 76.85 163.16 2079.96 58.75 65.87 1253.99 1800.24 0.00 \\npr439_439_50  874.27 4.53 2432.33 183.53 127.75 2010.28 47.02 88.23 1068.00 1327.63 0.00 \\npr439_439_60  739.19 7.90 2037.31 487.18 108.95 1667.70 39.28 71.05 975.00 918.13 0.00 \\npr439_439_70  621.74 25.81 2575.12 1271.12 184.37 1541.50 33.65 70.23 905.54 639.50 0.00 \\npr439_439_80  580.01 24.80 2277.06 497.79 211.13 1453.44 29.05 98.59 731.86 509.87 0.00 \\npr439_439_90  530.48 49.18 2432.33 291.78 239.76 1453.44 25.42 103.03 715.89 405.64 0.00 \\nHowever,  the proposed  SO remains  as the best approach  for solv- \\ning the considered  problem.  Finally,  it is important  to remark  that \\nSO is able to reach results which are relatively  close, compared  to \\nthe other methods  investigated,  to the lower bound obtained  with \\nthe optimal  result for the continuous  version.']"
      ]
     },
     "execution_count": 7,
     "metadata": {},
     "output_type": "execute_result"
    }
   ],
   "source": [
    "search_similar(\"What is the problem being solved?\")"
   ]
  },
  {
   "cell_type": "code",
   "execution_count": 8,
   "metadata": {},
   "outputs": [],
   "source": [
    "model = ChatOpenAI(temperature=0, model=\"gpt-3.5-turbo-0613\")"
   ]
  },
  {
   "cell_type": "code",
   "execution_count": 9,
   "metadata": {},
   "outputs": [],
   "source": [
    "prompt = PromptTemplate(\n",
    "    input_variables=[\"contents\", \"query\"],\n",
    "    template=\"\"\"\n",
    "        You are an academic researcher. Help me understand a selection of papers that focus on the following:\n",
    "\n",
    "        {contents}\n",
    "\n",
    "        Now, my question is: {query}\n",
    "        \"\"\"\n",
    ")\n",
    "\n",
    "chain = LLMChain(llm=model, prompt=prompt)"
   ]
  },
  {
   "cell_type": "code",
   "execution_count": 10,
   "metadata": {},
   "outputs": [],
   "source": [
    "def reply(query: str):\n",
    "    similars = search_similar(query)\n",
    "    response = chain.run(contents=similars, query=query)\n",
    "\n",
    "    return response"
   ]
  },
  {
   "cell_type": "code",
   "execution_count": 11,
   "metadata": {},
   "outputs": [
    {
     "data": {
      "text/plain": [
       "'The problem being solved in the selection of papers is the α-p Center Problem (α-pCP). The α-pCP aims to select a set of p facilities from a given set of points in order to minimize the maximum distance between each demand point and its αth closest facility. The objective is to minimize the radius of the maximal circle (among the p allowed) so that each demand point is covered by at least α circles.'"
      ]
     },
     "execution_count": 11,
     "metadata": {},
     "output_type": "execute_result"
    }
   ],
   "source": [
    "reply(\"What problem is being solved?\")"
   ]
  },
  {
   "cell_type": "code",
   "execution_count": 12,
   "metadata": {},
   "outputs": [
    {
     "data": {
      "text/plain": [
       "'The authors compared the beta parameter by conducting experiments using different values of beta (0.00, 0.25, 0.50, 0.75, 1.00, and RND) and evaluating the results. They performed 100 constructions for each value of beta and measured the average objective function value, computing time, deviation from the best solution found, and the number of times the algorithm reached the best solution. Based on these metrics, they determined the best value for the beta parameter. They found that a beta value of 0.00 resulted in the highest number of best solutions found, while beta values of 0.25 and RND had lower deviation from the best solution. They concluded that large beta values should be avoided as they introduce too much randomness in the search.'"
      ]
     },
     "execution_count": 12,
     "metadata": {},
     "output_type": "execute_result"
    }
   ],
   "source": [
    "reply(\"How did the authors compared the beta parameter?\")"
   ]
  },
  {
   "cell_type": "code",
   "execution_count": 13,
   "metadata": {},
   "outputs": [
    {
     "data": {
      "text/plain": [
       "'Based on the provided information, there is no mention of the \"Fast Vertex Substitution\" in the selection of papers. Therefore, it is not possible to determine the main feature of the Fast Vertex Substitution based on the given information.'"
      ]
     },
     "execution_count": 13,
     "metadata": {},
     "output_type": "execute_result"
    }
   ],
   "source": [
    "reply(\"What is the main feature of the Fast Vertex Substitution?\")"
   ]
  },
  {
   "cell_type": "code",
   "execution_count": null,
   "metadata": {},
   "outputs": [],
   "source": []
  }
 ],
 "metadata": {
  "kernelspec": {
   "display_name": "venv",
   "language": "python",
   "name": "python3"
  },
  "language_info": {
   "codemirror_mode": {
    "name": "ipython",
    "version": 3
   },
   "file_extension": ".py",
   "mimetype": "text/x-python",
   "name": "python",
   "nbconvert_exporter": "python",
   "pygments_lexer": "ipython3",
   "version": "3.11.2"
  },
  "orig_nbformat": 4
 },
 "nbformat": 4,
 "nbformat_minor": 2
}
