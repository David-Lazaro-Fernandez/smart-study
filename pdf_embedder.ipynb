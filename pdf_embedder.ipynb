{
 "cells": [
  {
   "cell_type": "code",
   "execution_count": 1,
   "metadata": {},
   "outputs": [],
   "source": [
    "import os\n",
    "\n",
    "from langchain.document_loaders import PyPDFLoader\n",
    "from langchain.vectorstores import FAISS\n",
    "from langchain.embeddings.openai import OpenAIEmbeddings\n",
    "from langchain.prompts import PromptTemplate\n",
    "from langchain.chat_models import ChatOpenAI\n",
    "from langchain.chains import LLMChain\n",
    "from dotenv import load_dotenv\n",
    "import pandas as pd"
   ]
  },
  {
   "cell_type": "code",
   "execution_count": 2,
   "metadata": {},
   "outputs": [
    {
     "data": {
      "text/plain": [
       "True"
      ]
     },
     "execution_count": 2,
     "metadata": {},
     "output_type": "execute_result"
    }
   ],
   "source": [
    "load_dotenv()"
   ]
  },
  {
   "cell_type": "code",
   "execution_count": 3,
   "metadata": {},
   "outputs": [],
   "source": [
    "all_pages = []\n",
    "\n",
    "DIRPATH = \"./data/pdfs/\"\n",
    "\n",
    "for filename in os.listdir(DIRPATH):\n",
    "    filepath = os.path.join(DIRPATH, filename)\n",
    "    loader = PyPDFLoader(filepath)\n",
    "    pages = loader.load_and_split()\n",
    "    all_pages.extend(pages)"
   ]
  },
  {
   "cell_type": "code",
   "execution_count": 4,
   "metadata": {},
   "outputs": [],
   "source": [
    "embeddings = OpenAIEmbeddings()\n",
    "vectors = FAISS.from_documents(all_pages, embeddings)"
   ]
  },
  {
   "cell_type": "code",
   "execution_count": 5,
   "metadata": {},
   "outputs": [],
   "source": [
    "def search_similar(query: str):\n",
    "    similars = vectors.similarity_search(query, k=3)\n",
    "    \n",
    "    return [s.page_content for s in similars]"
   ]
  },
  {
   "cell_type": "code",
   "execution_count": 6,
   "metadata": {},
   "outputs": [],
   "source": [
    "model = ChatOpenAI(temperature=0, model=\"gpt-3.5-turbo-16k\")\n",
    "\n",
    "prompt = PromptTemplate(\n",
    "    input_variables=[\"contents\", \"query\"],\n",
    "    template=\"\"\"\n",
    "        You are an expert academic researcher that enjoys helping other researchers, like myself.\n",
    "        Based on the following content from research papers that I am familiar with and I know are related to my question: \n",
    "        \n",
    "        {contents}\n",
    "\n",
    "        {query}\n",
    "        \"\"\"\n",
    ")\n",
    "\n",
    "chain = LLMChain(llm=model, prompt=prompt)"
   ]
  },
  {
   "cell_type": "code",
   "execution_count": 7,
   "metadata": {},
   "outputs": [],
   "source": [
    "def reply(query: str):\n",
    "    similars = search_similar(query)\n",
    "    response = chain.run(contents=similars, query=query)\n",
    "\n",
    "    return response"
   ]
  },
  {
   "cell_type": "code",
   "execution_count": 12,
   "metadata": {},
   "outputs": [
    {
     "data": {
      "text/plain": [
       "'The authors that addressed the alpha-neighbor p-center problem are J. Sánchez-Oro, A.D. López-Sánchez, A.G. Hernández-Díaz, et al.'"
      ]
     },
     "execution_count": 12,
     "metadata": {},
     "output_type": "execute_result"
    }
   ],
   "source": [
    "reply(\"Who are the authors that addressed the alpha-neighbor p-center problem?\")"
   ]
  },
  {
   "cell_type": "code",
   "execution_count": 9,
   "metadata": {},
   "outputs": [
    {
     "data": {
      "text/plain": [
       "'Based on the content provided, there is no information about the president of the United States. The research papers mentioned are related to the topics of local search procedures, tabu search, and the α−pCP problem.'"
      ]
     },
     "execution_count": 9,
     "metadata": {},
     "output_type": "execute_result"
    }
   ],
   "source": [
    "reply(\"Based on the papers, who is the president of the United States?\")"
   ]
  },
  {
   "cell_type": "code",
   "execution_count": 10,
   "metadata": {},
   "outputs": [
    {
     "data": {
      "text/plain": [
       "'The information provided does not contain any relevant information about the first lady of Mexico.'"
      ]
     },
     "execution_count": 10,
     "metadata": {},
     "output_type": "execute_result"
    }
   ],
   "source": [
    "reply(\"Who is the first lady of Mexico?\")"
   ]
  },
  {
   "cell_type": "code",
   "execution_count": 11,
   "metadata": {},
   "outputs": [
    {
     "data": {
      "text/plain": [
       "'The main feature of the Fast Vertex Substitution is its ability to efficiently evaluate and update the objective function value during the vertex substitution process. This is achieved by finding the best deletion (facility to be removed) during the evaluation of the objective function value, reducing the complexity of the procedure.\\n\\nTo adapt the Fast Vertex Substitution to the alpha-neighbor p-center problem, you can incorporate the concept of alpha-neighborhood into the procedure. The alpha-neighborhood of a solution X is defined as the set of solutions that can be obtained by replacing at most alpha fraction of the facilities in X with facilities outside of X.\\n\\nIn the Fast Vertex Substitution, instead of considering all possible replacements of facilities, you can limit the replacements to only those that result in solutions within the alpha-neighborhood of X. This can be done by modifying the Move procedure to consider only those replacements that satisfy the alpha-neighborhood constraint.\\n\\nBy incorporating the alpha-neighborhood constraint, you can ensure that the Fast Vertex Substitution explores a more restricted search space, focusing on solutions that are more likely to improve the objective function value. This can potentially improve the efficiency and effectiveness of the algorithm in solving the alpha-neighbor p-center problem.'"
      ]
     },
     "execution_count": 11,
     "metadata": {},
     "output_type": "execute_result"
    }
   ],
   "source": [
    "reply(\"What is the main feature of the Fast Vertex Substitution and how can I adapt it to the alpha-neighbor p-center problem?\")"
   ]
  }
 ],
 "metadata": {
  "kernelspec": {
   "display_name": "venv",
   "language": "python",
   "name": "python3"
  },
  "language_info": {
   "codemirror_mode": {
    "name": "ipython",
    "version": 3
   },
   "file_extension": ".py",
   "mimetype": "text/x-python",
   "name": "python",
   "nbconvert_exporter": "python",
   "pygments_lexer": "ipython3",
   "version": "3.11.2"
  },
  "orig_nbformat": 4
 },
 "nbformat": 4,
 "nbformat_minor": 2
}
