{
 "cells": [
  {
   "cell_type": "code",
   "execution_count": 1,
   "metadata": {},
   "outputs": [],
   "source": [
    "import os\n",
    "\n",
    "from langchain.document_loaders import PyPDFLoader\n",
    "from langchain.text_splitter import CharacterTextSplitter\n",
    "from langchain.vectorstores import FAISS\n",
    "from langchain.embeddings.openai import OpenAIEmbeddings\n",
    "from langchain.prompts import PromptTemplate\n",
    "from langchain.chat_models import ChatOpenAI\n",
    "from langchain.chains import LLMChain\n",
    "from dotenv import load_dotenv\n",
    "import pandas as pd"
   ]
  },
  {
   "cell_type": "code",
   "execution_count": 2,
   "metadata": {},
   "outputs": [
    {
     "data": {
      "text/plain": [
       "True"
      ]
     },
     "execution_count": 2,
     "metadata": {},
     "output_type": "execute_result"
    }
   ],
   "source": [
    "load_dotenv()"
   ]
  },
  {
   "cell_type": "code",
   "execution_count": 3,
   "metadata": {},
   "outputs": [],
   "source": [
    "all_pages = []\n",
    "\n",
    "DIRPATH = \"./data/pdfs/\"\n",
    "\n",
    "for filename in os.listdir(DIRPATH):\n",
    "    filepath = os.path.join(DIRPATH, filename)\n",
    "    loader = PyPDFLoader(filepath)\n",
    "    pages = loader.load_and_split(\n",
    "        CharacterTextSplitter()\n",
    "    )\n",
    "    all_pages.extend(pages)"
   ]
  },
  {
   "cell_type": "code",
   "execution_count": 4,
   "metadata": {},
   "outputs": [],
   "source": [
    "embeddings = OpenAIEmbeddings()\n",
    "vectors = FAISS.from_documents(all_pages, embeddings)"
   ]
  },
  {
   "cell_type": "code",
   "execution_count": 15,
   "metadata": {},
   "outputs": [],
   "source": [
    "model = ChatOpenAI(temperature=0, model=\"gpt-3.5-turbo-16k\")\n",
    "\n",
    "prompt = PromptTemplate(\n",
    "    input_variables=[\"contents\", \"query\"],\n",
    "    template=\"\"\"\n",
    "        You are an expert academic researcher that enjoys helping other researchers, like myself.\n",
    "        Based on the following content from research papers that I am familiar with, and I know are related to my question: \n",
    "        \n",
    "        {contents}\n",
    "\n",
    "        {query}\n",
    "\n",
    "        Please keep your replies concise but short. Do not answer something that was not asked.\n",
    "        \"\"\"\n",
    ")\n",
    "\n",
    "chain = LLMChain(llm=model, prompt=prompt)"
   ]
  },
  {
   "cell_type": "code",
   "execution_count": 16,
   "metadata": {},
   "outputs": [],
   "source": [
    "def search_similar(query: str):\n",
    "    similars = vectors.similarity_search(query, k=3)\n",
    "    \n",
    "    return [s.page_content for s in similars]\n",
    "\n",
    "def reply(query: str):\n",
    "    similars = search_similar(query)\n",
    "    response = chain.run(contents=similars, query=query)\n",
    "\n",
    "    return response"
   ]
  },
  {
   "cell_type": "code",
   "execution_count": 17,
   "metadata": {},
   "outputs": [
    {
     "data": {
      "text/plain": [
       "'The paper funded by a Spanish Ministry is \"GRASP and VNS for solving the p-next center problem\" by J. Sánchez-Oro, A. López-Sánchez, and A. Hernández-Díaz. The name of the Ministry is the Spanish Ministry of \"Ciencia, Innovación y Universidades.\"'"
      ]
     },
     "execution_count": 17,
     "metadata": {},
     "output_type": "execute_result"
    }
   ],
   "source": [
    "reply(\"What paper was funded by a Spanish Ministry? And what is the name of that Ministry?\")"
   ]
  },
  {
   "cell_type": "code",
   "execution_count": 19,
   "metadata": {},
   "outputs": [
    {
     "data": {
      "text/plain": [
       "'The main feature of the Fast Vertex Substitution is its low worst-case complexity, which allows for efficient solving of the p-Center problem.'"
      ]
     },
     "execution_count": 19,
     "metadata": {},
     "output_type": "execute_result"
    }
   ],
   "source": [
    "reply(\"What is the main feature of the Fast Vertex Substitution?\")"
   ]
  },
  {
   "cell_type": "code",
   "execution_count": null,
   "metadata": {},
   "outputs": [],
   "source": []
  }
 ],
 "metadata": {
  "kernelspec": {
   "display_name": "venv",
   "language": "python",
   "name": "python3"
  },
  "language_info": {
   "codemirror_mode": {
    "name": "ipython",
    "version": 3
   },
   "file_extension": ".py",
   "mimetype": "text/x-python",
   "name": "python",
   "nbconvert_exporter": "python",
   "pygments_lexer": "ipython3",
   "version": "3.11.2"
  },
  "orig_nbformat": 4
 },
 "nbformat": 4,
 "nbformat_minor": 2
}
